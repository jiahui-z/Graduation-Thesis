{
 "cells": [
  {
   "cell_type": "code",
   "execution_count": null,
   "metadata": {},
   "outputs": [],
   "source": [
    "import pandas as pd\n",
    "import numpy as np\n",
    "import numpy.linalg as la\n",
    "import statsmodels.discrete.discrete_model as sm\n",
    "from statsmodels.tools.tools import add_constant\n",
    "import matplotlib.pyplot as plt\n",
    "import seaborn as sns\n",
    "import warnings\n",
    "from linearmodels import PanelOLS, RandomEffects\n",
    "from pyeconometrics.panel_discrete_models import FixedEffectPanelModel\n",
    "from scipy import stats\n",
    "from statsmodels.tsa.stattools import adfuller\n",
    "\n",
    "warnings.filterwarnings('ignore')\n",
    "plt.style.use('seaborn')\n",
    "pd.options.mode.chained_assignment = None"
   ]
  },
  {
   "cell_type": "code",
   "execution_count": null,
   "metadata": {},
   "outputs": [],
   "source": [
    "# read data\n",
    "CPI = pd.read_csv('CPI.csv')\n",
    "GDP = pd.read_csv('GDP.csv')\n",
    "dta = pd.read_csv('final_exr.csv')\n",
    "\n",
    "# merge CPI data\n",
    "CPI = pd.melt(CPI, id_vars=[\"Country Name\", \"Country Code\"], var_name=\"Year\", value_name=\"CPI\").sort_values(by=[\"Country Name\", \"Country Code\"])\n",
    "CPI.columns = ['originn', 'country_code', 'year', 'CPI']\n",
    "CPI.year = CPI.year.astype(int)\n",
    "dta = pd.merge(dta, CPI, how='left', on=['year','originn'])\n",
    "\n",
    "# merge CPI of China data\n",
    "CPIbase = CPI[CPI.originn == u'中国']\n",
    "CPIbase = CPIbase.drop(['originn', 'country_code'], axis=1)\n",
    "CPIbase.columns = ['year', 'CPIbase']\n",
    "dta = pd.merge(dta, CPIbase, how='left', on=['year'])\n",
    "\n",
    "# merge GDP data\n",
    "GDP = pd.melt(GDP, id_vars=[\"Country Code\"], var_name=\"Year\", value_name=\"GDP\").sort_values(by=[\"Country Code\",\"Year\"])\n",
    "GDP.columns = ['country_code', 'year', 'GDP']\n",
    "GDP.year = GDP.year.astype(int)\n",
    "dta = pd.merge(dta, GDP, how='left', on=['country_code','year'])"
   ]
  },
  {
   "cell_type": "code",
   "execution_count": null,
   "metadata": {},
   "outputs": [],
   "source": [
    "# drop unused variables\n",
    "dta = dta.drop(['id', 'name', 'Unnamed: 0', 'Unnamed: 0.1'], axis=1)\n",
    "\n",
    "# define new variables\n",
    "dta['export_delivery_rate'] = dta.export / dta.total_sale\n",
    "dta['D'] = pd.cut(dta['export_delivery_rate'], bins=[0.0,0.2,0.5,1.0], labels=[1.0,2.0,3.0], include_lowest=True)\n",
    "dta['D2'] = 0\n",
    "dta['D2'][dta['D'] == 2.0] = 1\n",
    "dta['D3'] = 0\n",
    "dta['D3'][dta['D'] == 3.0] = 1\n",
    "\n",
    "# drop NaN\n",
    "dta = dta[(dta.export_delivery_rate.notnull()) & (dta.CPI.notnull()) & (dta.GDP.notnull()) \\\n",
    "          & (dta.aemployment != 0) & (dta.exchange_rate.notnull())]\n",
    "\n",
    "# define new variables\n",
    "dta['Quantity'] = dta.ex * dta.quantity_ex + dta.im * dta.quantity_im\n",
    "dta['processing_trade'] = 0\n",
    "dta['processing_trade'][(dta.regime_name == u'进料加工贸易') | \n",
    "                        (dta.regime_name == u'来料加工装配贸易') | \n",
    "                        (dta.regime_name == u'出料加工贸易')] = 1.0\n",
    "\n",
    "dta['mainbusiness_profit'] = dta.mainbusiness_revenue - dta.mainbusiness_cost\n",
    "\n",
    "dta['debt_asset_ratio'] = (dta.total_asset - dta.owner_rights) / dta.total_asset"
   ]
  },
  {
   "cell_type": "code",
   "execution_count": null,
   "metadata": {},
   "outputs": [],
   "source": [
    "# save data\n",
    "dta.to_csv('dta.csv', encoding='gb18030')"
   ]
  },
  {
   "cell_type": "code",
   "execution_count": null,
   "metadata": {},
   "outputs": [],
   "source": [
    "# filter, drop illegal variables\n",
    "temp = dta[(dta.owner_rights>0) & (dta.mainbusiness_profit>0) & (dta.total_profit>0)\n",
    "           & (dta.totaloutput>0) & (dta.wage_payable>0) & (dta.Quantity>0)  \n",
    "           & (dta.debt_asset_ratio>0) & (dta.debt_asset_ratio<1)\n",
    "           & (dta.export_delivery_rate>0) & (dta.export_delivery_rate<=1) & (dta.price>0) & (dta.mainbusiness_revenue!=0) \n",
    "           & (dta.mainbusiness_cost!=0) & ((dta.value_ex>0) | (dta.value_im>0)) \n",
    "           & (dta.valueadded>0) & (dta.total_asset>0) \n",
    "           & (dta.aemployment>=8) & (dta.setup_year>=1949.0)\n",
    "           & (dta.total_asset>dta.totalfixed_asset) \n",
    "           & (dta.totalfixed_asset>0) & (dta.totalintermediate_input>0)]  "
   ]
  },
  {
   "cell_type": "code",
   "execution_count": null,
   "metadata": {
    "scrolled": true
   },
   "outputs": [],
   "source": [
    "# Import Only\n",
    "len(temp[(temp.ex==1) & (temp.im==0)]) / len(temp)"
   ]
  },
  {
   "cell_type": "code",
   "execution_count": null,
   "metadata": {},
   "outputs": [],
   "source": [
    "# Export Only\n",
    "len(temp[(temp.ex==0) & (temp.im==1)]) / len(temp)"
   ]
  },
  {
   "cell_type": "code",
   "execution_count": null,
   "metadata": {},
   "outputs": [],
   "source": [
    "# Neither\n",
    "len(temp[(temp.ex==0) & (temp.im==0)]) / len(temp)"
   ]
  },
  {
   "cell_type": "code",
   "execution_count": null,
   "metadata": {
    "scrolled": true
   },
   "outputs": [],
   "source": [
    "# Both\n",
    "len(temp[(temp.ex==1) & (temp.im==1)]) / len(temp)"
   ]
  },
  {
   "cell_type": "code",
   "execution_count": null,
   "metadata": {},
   "outputs": [],
   "source": [
    "# Number of all firms\n",
    "len(temp)"
   ]
  },
  {
   "cell_type": "code",
   "execution_count": null,
   "metadata": {},
   "outputs": [],
   "source": [
    "# set index: firm name and year\n",
    "temp = temp.set_index(['frdwdm','year'])\n",
    "\n",
    "# define new variables\n",
    "temp['profit_rate'] = temp.mainbusiness_profit / temp.mainbusiness_revenue\n",
    "\n",
    "temp['trade_depend_ex'] = (temp.value_ex * temp.ex) / temp.mainbusiness_revenue\n",
    "temp['trade_depend_im'] = (temp.value_im * temp.im) / temp.mainbusiness_cost\n",
    "temp['exchange_rate_depend'] = temp.exchange_rate * temp.trade_depend_ex + temp.exchange_rate * temp.trade_depend_im\n",
    "temp['exchange_rate_CPI_adj'] = temp.CPIbase / (temp.CPI * temp.exchange_rate_depend)\n",
    "\n",
    "temp['GDP_depend'] = temp.GDP #* temp.trade_depend_ex + temp.GDP * temp.trade_depend_im\n",
    "\n",
    "temp['processing_trade_exr'] = temp.exchange_rate_CPI_adj * temp.processing_trade\n",
    "temp['tfp'] = np.log(temp.totaloutput/temp.aemployment) - 1/3 * np.log(temp.total_asset/temp.aemployment)\n",
    "\n",
    "temp['exchange_rate_medium'] = temp.D2 * temp.exchange_rate_CPI_adj\n",
    "temp['exchange_rate_high'] = temp.D3 * temp.exchange_rate_CPI_adj"
   ]
  },
  {
   "cell_type": "code",
   "execution_count": null,
   "metadata": {},
   "outputs": [],
   "source": [
    "labels, levels = pd.factorize(temp.frdwdm)\n",
    "import numpy_indexed as npi\n",
    "g = npi.group_by(labels)\n",
    "unique = g.unique\n",
    "idx = g.split_array_as_list(np.arange(len(labels)))\n",
    "duplicates = unique[g.count>1]\n",
    "idx_duplicates = np.asarray(idx)[g.count>1]\n",
    "print(duplicates, idx_duplicates)\n",
    "np.concatenate(idx_duplicates)"
   ]
  },
  {
   "cell_type": "code",
   "execution_count": null,
   "metadata": {},
   "outputs": [],
   "source": [
    "# Fixed Effect Model\n",
    "temp_y1 = np.log(temp['total_profit'])\n",
    "temp_y4 = np.log(temp['mainbusiness_profit']) \n",
    "temp_y5 = np.log(temp['profit_rate'])\n",
    "temp_y6 = np.log(temp['export_delivery_rate'])\n",
    "\n",
    "temp_X1 = temp[['wage_payable','valueadded','debt_asset_ratio',\n",
    "                'Quantity','price','GDP_depend','exchange_rate_CPI_adj']]#.apply(np.log)\n",
    "temp_X1 = temp_X1.merge(temp.processing_trade_exr.to_frame(), left_index=True, right_index=True)\n",
    "temp_X1 = temp_X1.merge(temp.tfp.to_frame(), left_index=True, right_index=True)\n",
    "temp_X1 = temp_X1.merge(temp.exchange_rate_medium.to_frame(), left_index=True, right_index=True)\n",
    "temp_X1 = temp_X1.merge(temp.exchange_rate_high.to_frame(), left_index=True, right_index=True)\n",
    "\n",
    "dta_temp1 = pd.concat([temp_y1, temp_X1], axis=1) # total_profit\n",
    "dta_temp4 = pd.concat([temp_y4, temp_X1], axis=1) # mainbusiness_profit\n",
    "dta_temp5 = pd.concat([temp_y5, temp_X1], axis=1) # profit_rate"
   ]
  },
  {
   "cell_type": "code",
   "execution_count": null,
   "metadata": {
    "scrolled": false
   },
   "outputs": [],
   "source": [
    "# Summary Statistics\n",
    "dta_temp1.describe()"
   ]
  },
  {
   "cell_type": "code",
   "execution_count": null,
   "metadata": {
    "scrolled": true
   },
   "outputs": [],
   "source": [
    "# Fixed Effect Regression on Total Profit \n",
    "mod11 = PanelOLS.from_formula('total_profit ~ 1 + wage_payable + valueadded + \\\n",
    "                              Quantity + price + tfp + debt_asset_ratio + GDP_depend + \\\n",
    "                              exchange_rate_CPI_adj + processing_trade_exr + \\\n",
    "                              exchange_rate_medium + exchange_rate_high + \\\n",
    "                              EntityEffects + TimeEffects', dta_temp1)\n",
    "res11 = mod11.fit(cov_type='heteroskedastic')\n",
    "print(res11) "
   ]
  },
  {
   "cell_type": "code",
   "execution_count": null,
   "metadata": {
    "scrolled": true
   },
   "outputs": [],
   "source": [
    "# Random Effect Regression on Total Profit \n",
    "random_mod11 = RandomEffects.from_formula('total_profit ~ 1 + wage_payable + valueadded + \\\n",
    "                              Quantity + price + tfp + debt_asset_ratio + GDP_depend + \\\n",
    "                              exchange_rate_CPI_adj + processing_trade_exr + \\\n",
    "                              exchange_rate_medium + exchange_rate_high + \\\n",
    "                              EntityEffects + TimeEffects', dta_temp1)\n",
    "random_res11 = random_mod11.fit(cov_type='heteroskedastic')\n",
    "print(random_res11)"
   ]
  },
  {
   "cell_type": "code",
   "execution_count": null,
   "metadata": {},
   "outputs": [],
   "source": [
    "# Hausman Test\n",
    "hausman(res11, random_res11)"
   ]
  },
  {
   "cell_type": "code",
   "execution_count": null,
   "metadata": {
    "scrolled": true
   },
   "outputs": [],
   "source": [
    "# regression on mainbusiness_revenue is bad\n",
    "# Fixed Effect Regression on Main Business Profit\n",
    "mod12 = PanelOLS.from_formula('mainbusiness_profit ~ 1 + wage_payable + valueadded + \\\n",
    "                              Quantity + price + tfp + debt_asset_ratio + GDP_depend + \\\n",
    "                              exchange_rate_CPI_adj + processing_trade_exr + \\\n",
    "                              exchange_rate_medium + exchange_rate_high + \\\n",
    "                              EntityEffects + TimeEffects', dta_temp4)\n",
    "res12 = mod12.fit(cov_type='heteroskedastic')\n",
    "print(res12) "
   ]
  },
  {
   "cell_type": "code",
   "execution_count": null,
   "metadata": {
    "scrolled": true
   },
   "outputs": [],
   "source": [
    "# Random Effect Regression on Total Profit \n",
    "random_mod12 = RandomEffects.from_formula('mainbusiness_profit ~ 1 + wage_payable + valueadded + \\\n",
    "                              Quantity + price + tfp + debt_asset_ratio + GDP_depend + \\\n",
    "                              exchange_rate_CPI_adj + processing_trade_exr + \\\n",
    "                              exchange_rate_medium + exchange_rate_high + \\\n",
    "                              EntityEffects + TimeEffects', dta_temp4)\n",
    "random_res12 = random_mod12.fit(cov_type='heteroskedastic')\n",
    "print(random_res12)"
   ]
  },
  {
   "cell_type": "code",
   "execution_count": null,
   "metadata": {},
   "outputs": [],
   "source": [
    "# Hausman Test\n",
    "hausman(res12, random_res12)"
   ]
  },
  {
   "cell_type": "code",
   "execution_count": null,
   "metadata": {
    "scrolled": true
   },
   "outputs": [],
   "source": [
    "# Fixed Effect Regression on Profit Rate\n",
    "mod13 = PanelOLS.from_formula('profit_rate ~ 1 + wage_payable + valueadded + \\\n",
    "                              Quantity + price + tfp + debt_asset_ratio + GDP_depend + \\\n",
    "                              exchange_rate_CPI_adj + processing_trade_exr + \\\n",
    "                              exchange_rate_medium + exchange_rate_high + \\\n",
    "                              EntityEffects + TimeEffects', dta_temp5)\n",
    "res13 = mod13.fit(cov_type='heteroskedastic')\n",
    "print(res13) # mainbusiness_profit; profit_rate; mainbusiness_revenue"
   ]
  },
  {
   "cell_type": "code",
   "execution_count": null,
   "metadata": {
    "scrolled": true
   },
   "outputs": [],
   "source": [
    "# Random Effect Regression on Profit Rate\n",
    "random_mod13 = RandomEffects.from_formula('profit_rate ~ 1 + wage_payable + valueadded + \\\n",
    "                              Quantity + price + tfp + debt_asset_ratio + GDP_depend + \\\n",
    "                              exchange_rate_CPI_adj + processing_trade_exr + \\\n",
    "                              exchange_rate_medium + exchange_rate_high + \\\n",
    "                              EntityEffects + TimeEffects', dta_temp5)\n",
    "random_res13 = random_mod13.fit(cov_type='heteroskedastic')\n",
    "print(random_res13)"
   ]
  },
  {
   "cell_type": "code",
   "execution_count": null,
   "metadata": {},
   "outputs": [],
   "source": [
    "# Hausman Test\n",
    "hausman(res13, random_res13)"
   ]
  },
  {
   "cell_type": "code",
   "execution_count": null,
   "metadata": {},
   "outputs": [],
   "source": [
    "# Prepare Data for Fixed Effect Regression on Export Quantity/Price\n",
    "temp_X21 = temp[temp.ex == 1]\n",
    "temp_X21 = temp_X21[temp_X21.quantity_ex>0]\n",
    "\n",
    "temp_X21 = temp_X21[['wage_payable','valueadded',\n",
    "                'quantity_ex','value_ex','price','GDP_depend','exchange_rate_CPI_adj']].apply(np.log)\n",
    "temp_X21 = temp_X21.merge(temp.processing_trade_exr.to_frame(), left_index=True, right_index=True)\n",
    "temp_X21 = temp_X21.merge(temp.tfp.to_frame(), left_index=True, right_index=True)\n",
    "temp_X21 = temp_X21.merge(temp.exchange_rate_medium.to_frame(), left_index=True, right_index=True)\n",
    "temp_X21 = temp_X21.merge(temp.exchange_rate_high.to_frame(), left_index=True, right_index=True)\n",
    "\n",
    "# Prepare Data for Fixed Effect Regression on Import Quantity/Price\n",
    "temp_X22 = temp[temp.im == 1]\n",
    "temp_X22 = temp_X22[temp_X22.quantity_im>0]\n",
    "\n",
    "temp_X22 = temp_X22[['wage_payable','valueadded',\n",
    "                'quantity_im','price','GDP_depend','exchange_rate_CPI_adj']].apply(np.log)\n",
    "temp_X22 = temp_X22.merge(temp.processing_trade_exr.to_frame(), left_index=True, right_index=True)\n",
    "temp_X22 = temp_X22.merge(temp.tfp.to_frame(), left_index=True, right_index=True)\n",
    "temp_X22 = temp_X22.merge(temp.exchange_rate_medium.to_frame(), left_index=True, right_index=True)\n",
    "temp_X22 = temp_X22.merge(temp.exchange_rate_high.to_frame(), left_index=True, right_index=True)"
   ]
  },
  {
   "cell_type": "code",
   "execution_count": null,
   "metadata": {
    "scrolled": true
   },
   "outputs": [],
   "source": [
    "# Fixed Effect Regression on Export Quantity\n",
    "mod21 = PanelOLS.from_formula('quantity_ex ~ 1 + wage_payable + \\\n",
    "                              valueadded + price + tfp + GDP_depend + \\\n",
    "                              exchange_rate_CPI_adj + processing_trade_exr + \\\n",
    "                              exchange_rate_medium + exchange_rate_high + \\\n",
    "                              EntityEffects + TimeEffects', temp_X21)\n",
    "res21 = mod21.fit(cov_type='heteroskedastic')\n",
    "print(res21)"
   ]
  },
  {
   "cell_type": "code",
   "execution_count": null,
   "metadata": {},
   "outputs": [],
   "source": [
    "# Random Effect Regression on Export Quantity\n",
    "random_mod21 = RandomEffects.from_formula('quantity_ex ~ 1 + wage_payable + \\\n",
    "                              valueadded + price + tfp + GDP_depend + \\\n",
    "                              exchange_rate_CPI_adj + processing_trade_exr + \\\n",
    "                              exchange_rate_medium + exchange_rate_high + \\\n",
    "                              EntityEffects + TimeEffects', temp_X21)\n",
    "random_res21 = random_mod21.fit(cov_type='heteroskedastic')\n",
    "print(random_res21)"
   ]
  },
  {
   "cell_type": "code",
   "execution_count": null,
   "metadata": {},
   "outputs": [],
   "source": [
    "# Hausman Test\n",
    "hausman(res21, random_res21)"
   ]
  },
  {
   "cell_type": "code",
   "execution_count": null,
   "metadata": {
    "scrolled": true
   },
   "outputs": [],
   "source": [
    "# Fixed Effect Regression on Import Quantity\n",
    "mod22 = PanelOLS.from_formula('quantity_im ~ 1 + wage_payable + \\\n",
    "                              valueadded + price + tfp + GDP_depend + \\\n",
    "                              exchange_rate_CPI_adj + processing_trade_exr + \\\n",
    "                              exchange_rate_medium + exchange_rate_high + \\\n",
    "                              EntityEffects + TimeEffects', temp_X22)\n",
    "res22 = mod22.fit(cov_type='heteroskedastic')\n",
    "print(res22)"
   ]
  },
  {
   "cell_type": "code",
   "execution_count": null,
   "metadata": {
    "scrolled": true
   },
   "outputs": [],
   "source": [
    "# Random Effect Regression on Import Quantity\n",
    "random_mod22 = RandomEffects.from_formula('quantity_im ~ 1 + wage_payable + \\\n",
    "                              valueadded + price + tfp + GDP_depend + \\\n",
    "                              exchange_rate_CPI_adj + processing_trade_exr + \\\n",
    "                              exchange_rate_medium + exchange_rate_high + \\\n",
    "                              EntityEffects + TimeEffects', temp_X22)\n",
    "random_res22 = random_mod22.fit(cov_type='heteroskedastic')\n",
    "print(random_res22)"
   ]
  },
  {
   "cell_type": "code",
   "execution_count": null,
   "metadata": {},
   "outputs": [],
   "source": [
    "# Hausman Test\n",
    "hausman(res22, random_res22)"
   ]
  },
  {
   "cell_type": "code",
   "execution_count": null,
   "metadata": {
    "scrolled": true
   },
   "outputs": [],
   "source": [
    "# Fixed Effect Regression on Export Price\n",
    "mod31 = PanelOLS.from_formula('price ~ 1 + wage_payable + \\\n",
    "                              valueadded + quantity_ex + tfp + GDP_depend + \\\n",
    "                              exchange_rate_CPI_adj + processing_trade_exr + \\\n",
    "                              exchange_rate_medium + exchange_rate_high + \\\n",
    "                              EntityEffects + TimeEffects', temp_X21)\n",
    "res31 = mod31.fit(cov_type='heteroskedastic')\n",
    "print(res31)"
   ]
  },
  {
   "cell_type": "code",
   "execution_count": null,
   "metadata": {
    "scrolled": true
   },
   "outputs": [],
   "source": [
    "# Random Effect Regression on Export Price\n",
    "random_mod31 = RandomEffects.from_formula('price ~ 1 + wage_payable + \\\n",
    "                              valueadded + quantity_ex + tfp + GDP_depend + \\\n",
    "                              exchange_rate_CPI_adj + processing_trade_exr + \\\n",
    "                              exchange_rate_medium + exchange_rate_high + \\\n",
    "                              EntityEffects + TimeEffects', temp_X21)\n",
    "random_res31 = random_mod31.fit(cov_type='heteroskedastic')\n",
    "print(random_res31)"
   ]
  },
  {
   "cell_type": "code",
   "execution_count": null,
   "metadata": {},
   "outputs": [],
   "source": [
    "# Hausman Test\n",
    "hausman(res31, random_res31)"
   ]
  },
  {
   "cell_type": "code",
   "execution_count": null,
   "metadata": {
    "scrolled": true
   },
   "outputs": [],
   "source": [
    "# Fixed Effect Regression on Import Price\n",
    "mod32 = PanelOLS.from_formula('price ~ 1 + wage_payable + \\\n",
    "                              valueadded + quantity_im + tfp + GDP_depend + \\\n",
    "                              exchange_rate_CPI_adj + processing_trade_exr + \\\n",
    "                              exchange_rate_medium+exchange_rate_high + \\\n",
    "                              EntityEffects + TimeEffects', temp_X22)\n",
    "res32 = mod32.fit(cov_type='heteroskedastic')\n",
    "print(res32)"
   ]
  },
  {
   "cell_type": "code",
   "execution_count": null,
   "metadata": {
    "scrolled": true
   },
   "outputs": [],
   "source": [
    "# Random Effect Regression on Import Price\n",
    "random_mod32 = RandomEffects.from_formula('price ~ 1 + wage_payable + \\\n",
    "                              valueadded + quantity_im + tfp + GDP_depend + \\\n",
    "                              exchange_rate_CPI_adj + processing_trade_exr + \\\n",
    "                              exchange_rate_medium+exchange_rate_high + \\\n",
    "                              EntityEffects + TimeEffects', temp_X22)\n",
    "random_res32 = random_mod32.fit(cov_type='heteroskedastic')\n",
    "print(random_res32)"
   ]
  },
  {
   "cell_type": "code",
   "execution_count": null,
   "metadata": {},
   "outputs": [],
   "source": [
    "# Hausman Testd\n",
    "hausman(res32, random_res32)"
   ]
  },
  {
   "cell_type": "code",
   "execution_count": null,
   "metadata": {},
   "outputs": [],
   "source": [
    "# logit model on export\n",
    "exog = add_constant(temp_X1)\n",
    "\n",
    "logit1 = sm.Logit(temp['ex'], exog)\n",
    "\n",
    "result1 = logit1.fit()\n",
    "print(result1.summary2())"
   ]
  },
  {
   "cell_type": "code",
   "execution_count": null,
   "metadata": {},
   "outputs": [],
   "source": [
    "# logit model on import\n",
    "logit2 = sm.Logit(temp['im'], exog)\n",
    "\n",
    "result2 = logit2.fit()\n",
    "print(result2.summary2())"
   ]
  },
  {
   "cell_type": "code",
   "execution_count": null,
   "metadata": {},
   "outputs": [],
   "source": [
    "temp.ownership_name.value_counts()"
   ]
  },
  {
   "cell_type": "code",
   "execution_count": null,
   "metadata": {},
   "outputs": [],
   "source": [
    "temp.transport_name.value_counts()"
   ]
  },
  {
   "cell_type": "markdown",
   "metadata": {},
   "source": [
    "##### Variables Description\n",
    "\n",
    "frdwdm(公司名); year(年份); youbian(邮编); setup_year(开业年); setup_month(开业月); \n",
    "\n",
    "totaloutput(工业总产值); newproduct_output(工业总产值-新产品产值); total_sale(工业销售产值); export(工业销售产值-出口交货值); aemployment(全部职工); valueadded(工业增加值); longrun_invest(长期投资); totalfixed_asset(固定资产合计); fixed_asset_op(固定资产-生产经营用); depreciate(累计折旧); depreciate_tyear(累计折旧-本年折旧); fixedasset_net(固定资产净值年平均余额); total_asset(资产总计); owner_rights(所有者权益合计); paicl_up_capital(实收资本); so_capital(国家资本金); co_capital(集体资本金); lp_capital(法人资本金); p_capital(个人资本金); gat_capital(港澳台资本金); foreign_capital(外商资本金); \n",
    "\n",
    "mainbusiness_revenue(主营业务收入); mainbusiness_cost(主营业务成本); finance_expense(财务费用); fe_interest(财务费用-利息支出); total_profit(利润总额); advertise_expense(广告费); wage_payable(本年应付工资总额); wp_mainbusiness(本年应付福利费总额); totalintermediate_input(工业中间投入合计); \n",
    "\n",
    "\n",
    "drop variables: id(公司代码); frdm(法人代码); fddbr(法人); quhao(区号); dianhua(固定电话); fenjihao(分机号); chuanzhen(传真); email; web; registertype(登记注册类型); lishu(隶属关系); totalasset(资产总计含缺省值); e_state(!=so_capital); e_collective(=co_capital); e_individual(=p_capital); e_legal_person(=lp_capital); e_hmt(=gat_capital); e_foreign(=foreign_capital); e_total(=paicl_up_capital); soe_sh, collect_sh, lp_sh, p_sh, hmt_sh, foreign_sh(shares); state, collective, private, hmt, foreign(dummies); frdmid; firmid; newid(=frdmid-1);\n",
    "\n",
    "unclear: edu(职工教育费), rd_expense(研究开发费), code_cnty, cic_adj, BR_deflator, I, cic2(first two digits of cic_adj), lny, lnl, lnk, lnm, lnk_net, investment_net(投资收益), lninvest_net(=ln(investment_net)), lninvest, 'ownership', 'ownerships', "
   ]
  },
  {
   "cell_type": "code",
   "execution_count": null,
   "metadata": {},
   "outputs": [],
   "source": [
    "# visualzation for Total Number of Firms in Processing Trade Industry, Total Output, Export Share, Import Share\n",
    "df1 = temp[temp.ex == 1]\n",
    "df2 = temp[temp.im == 1]\n",
    "\n",
    "total_output = temp.groupby(['year'])['totaloutput'].sum()\n",
    "total_output1 = df1.groupby(['year'])['totaloutput'].sum()\n",
    "total_output2 = df2.groupby(['year'])['totaloutput'].sum()\n",
    "total_export = df1.groupby(['year'])['value_ex'].sum() / (total_output1*10)\n",
    "total_import = df2.groupby(['year'])['value_im'].sum() / total_output2\n",
    "\n",
    "df = temp[temp.processing_trade==1]\n",
    "total = temp.groupby(['year']).size()\n",
    "ts = df.year.value_counts().sort_index() \n",
    "\n",
    "del total_output.index.name\n",
    "del total_export.index.name\n",
    "del total_import.index.name\n",
    "\n",
    "fig = plt.figure(figsize=(18,8))\n",
    "\n",
    "ax1 = plt.subplot(2, 2, 1)\n",
    "ts.plot(color='blue', grid=True, label='Number of Firms in Processing Trade')\n",
    "ax1.legend(loc=\"upper left\")\n",
    "\n",
    "ax2 = plt.subplot(2, 2, 2)\n",
    "total_output.plot(color='blue', grid=True, label='Total Output')\n",
    "ax2.legend(loc=\"upper left\")\n",
    "\n",
    "ax3 = plt.subplot(2, 2, 3)\n",
    "total_export.plot(color='blue', grid=True, label='Export Share')\n",
    "ax3.legend(loc=\"upper right\")\n",
    "\n",
    "ax4 = plt.subplot(2, 2, 4)\n",
    "total_import.plot(color='blue', grid=True, label='Import Share')\n",
    "ax4.legend(loc=\"upper right\")\n",
    "\n",
    "plt.show()\n",
    "fig.savefig('plot.png')"
   ]
  },
  {
   "cell_type": "code",
   "execution_count": null,
   "metadata": {},
   "outputs": [],
   "source": [
    "# single plot: plot the number of firms in processing trade industry\n",
    "\n",
    "fig = plt.figure(figsize=(12,5))\n",
    "\n",
    "ax1 = ts.plot(color='blue', grid=True, label='Number')\n",
    "\n",
    "h1, l1 = ax1.get_legend_handles_labels()\n",
    "\n",
    "plt.legend(h1, l1, loc=3, prop={'size': 17})\n",
    "plt.show()\n",
    "fig.savefig('plot1.png')"
   ]
  },
  {
   "cell_type": "code",
   "execution_count": null,
   "metadata": {},
   "outputs": [],
   "source": [
    "# Fixed Effect logit model on export\n",
    "temp_X4 = pd.concat([temp_y8, temp_X1], axis=1)\n",
    "FE1 = FixedEffectPanelModel()\n",
    "FE1.fit(temp_X4, 'ex', verbose=True)\n",
    "FE1.summary()\n",
    "# FE.beta\n",
    "# FE.beta_se\n",
    "\n",
    "# Fixed Effect logit model on import\n",
    "temp_X5 = pd.concat([temp_y9, temp_X1], axis=1)\n",
    "FE2 = FixedEffectPanelModel()\n",
    "FE2.fit(temp_X5, 'im', verbose=True)\n",
    "FE2.summary()"
   ]
  },
  {
   "cell_type": "code",
   "execution_count": null,
   "metadata": {},
   "outputs": [],
   "source": []
  }
 ],
 "metadata": {
  "kernelspec": {
   "display_name": "Python 3",
   "language": "python",
   "name": "python3"
  },
  "language_info": {
   "codemirror_mode": {
    "name": "ipython",
    "version": 3
   },
   "file_extension": ".py",
   "mimetype": "text/x-python",
   "name": "python",
   "nbconvert_exporter": "python",
   "pygments_lexer": "ipython3",
   "version": "3.6.4"
  }
 },
 "nbformat": 4,
 "nbformat_minor": 2
}
